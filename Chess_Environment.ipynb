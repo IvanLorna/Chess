{
  "nbformat": 4,
  "nbformat_minor": 0,
  "metadata": {
    "colab": {
      "name": "Chess_Environment.ipynb",
      "provenance": [],
      "collapsed_sections": []
    },
    "kernelspec": {
      "name": "python3",
      "display_name": "Python 3"
    },
    "language_info": {
      "name": "python"
    }
  },
  "cells": [
    {
      "cell_type": "code",
      "metadata": {
        "id": "JtYLQpvXHdj2"
      },
      "source": [
        "#import libraries\n",
        "import chess\n",
        "import numpy as np\n",
        "from Agent import Agent\n",
        "from Environment import Environement"
      ],
      "execution_count": 1,
      "outputs": []
    },
    {
      "cell_type": "code",
      "metadata": {
        "colab": {
          "base_uri": "https://localhost:8080/"
        },
        "id": "XijrePzDF5Mb",
        "outputId": "2b6efc8b-6a19-440a-d97f-f393c851be47"
      },
      "source": [
        "White = Agent(isWhite = True)\n",
        "Black = Agent(isWhite = False)\n",
        "\n",
        "Game1 = Environement(White, Black)\n",
        "history = Game1.Game()\n",
        "print(history)\n",
        "print(Game1.board)"
      ],
      "execution_count": 2,
      "outputs": [
        {
          "output_type": "stream",
          "text": [
            "There is a stalemate\n",
            "['e2e3', 'e7e6', 'd2d3', 'd7d6', 'g1e2', 'd6d5', 'e2d4', 'g8e7', 'd1g4', 'e6e5', 'g4c8', 'b8c6', 'd4e6', 'c6d4', 'f1e2', 'd8c8', 'e1g1', 'd4c6', 'e2d1', 'e8d7', 'd1e2', 'c6d8', 'e2d1', 'd7e8', 'd1e2', 'e8d7', 'e2d1', 'd7e8', 'd1e2', 'e8d7', 'e2d1', 'd7e8', 'd1e2', 'e8d7', 'e2d1', 'd7e8', 'd1e2', 'e8d7', 'e2d1', 'd7e8', 'd1e2', 'e8d7', 'e2d1', 'd7e8', 'd1e2', 'e8d7', 'e2d1', 'd7e8', 'd1e2', 'e8d7', 'e2d1', 'd7e8', 'd1e2', 'e8d7', 'e2d1', 'd7e8', 'd1e2', 'e8d7', 'e2d1', 'd7e8', 'd1e2', 'e8d7', 'e2d1', 'd7e8', 'd1e2', 'e8d7', 'e2d1', 'd7e8', 'd1e2', 'e8d7', 'e2d1', 'd7e8', 'd1e2', 'e8d7', 'e2d1', 'd7e8', 'd1e2', 'e8d7', 'e2d1', 'd7e8', 'd1e2', 'e8d7', 'e2d1', 'd7e8', 'd1e2', 'e8d7', 'e2d1', 'd7e8', 'd1e2', 'e8d7', 'e2d1', 'd7e8', 'd1e2', 'e8d7', 'e2d1', 'd7e8', 'd1e2', 'e8d7', 'e2d1', 'd7e8', 'd1e2', 'e8d7', 'e2d1', 'd7e8', 'd1e2', 'e8d7', 'e2d1', 'd7e8', 'd1e2', 'e8d7', 'e2d1', 'd7e8', 'd1e2', 'e8d7', 'e2d1', 'd7e8', 'd1e2', 'e8d7', 'e2d1', 'd7e8', 'd1e2', 'e8d7', 'e2d1', 'd7e8', 'd1e2', 'e8d7', 'e2d1', 'd7e8', 'd1e2', 'e8d7', 'e2d1', 'd7e8', 'd1e2', 'e8d7', 'e2d1', 'd7e8', 'd1e2', 'e8d7', 'e2d1', 'd7e8', 'd1e2', 'e8d7', 'e2d1', 'd7e8', 'd1e2', 'e8d7', 'e2d1', 'd7e8', 'd1e2', 'e8d7', 'e2d1', 'd7e8', 'd1e2', 'e8d7', 'e2d1', 'd7e8', 'd1e2', 'e8d7', 'e2d1', 'd7e8', 'd1e2', 'e8d7', 'e2d1', 'd7e8', 'd1e2', 'e8d7', 'e2d1', 'd7e8', 'd1e2', 'e8d7', 'e2d1', 'd7e8', 'd1e2', 'e8d7', 'e2d1', 'd7e8', 'd1e2', 'e8d7', 'e2d1', 'd7e8', 'd1e2', 'e8d7', 'e2d1', 'd7e8', 'd1e2', 'e8d7', 'e2d1', 'd7e8', 'd1e2', 'e8d7', 'e2d1', 'd7e8', 'd1e2', 'e8d7', 'e2d1', 'd7e8', 'd1e2', 'e8d7', 'e2d1', 'd7e8', 'd1e2', 'e8d7', 'e2d1', 'd7e8', 'd1e2', 'e8d7', 'e2d1', 'd7e8', 'd1e2', 'e8d7', 'e2d1', 'd7e8', 'd1e2', 'e8d7', 'e2d1', 'd7e8', 'd1e2', 'e8d7', 'e2d1', 'd7e8', 'd1e2', 'e8d7', 'e2d1', 'd7e8', 'd1e2', 'e8d7', 'e2d1', 'd7e8', 'd1e2', 'e8d7', 'e2d1', 'd7e8', 'd1e2', 'e8d7', 'e2d1', 'd7e8', 'd1e2', 'e8d7', 'e2d1', 'd7e8', 'd1e2', 'e8d7', 'e2d1', 'd7e8', 'd1e2', 'e8d7', 'e2d1', 'd7e8', 'd1e2', 'e8d7', 'e2d1', 'd7e8', 'd1e2', 'e8d7', 'e2d1', 'd7e8', 'd1e2', 'e8d7', 'e2d1', 'd7e8', 'd1e2', 'e8d7', 'e2d1', 'd7e8', 'd1e2', 'e8d7', 'e2d1', 'd7e8', 'd1e2', 'e8d7', 'e2d1', 'd7e8', 'd1e2', 'e8d7', 'e2d1', 'd7e8', 'd1e2', 'e8d7', 'e2d1', 'd7e8', 'd1e2', 'e8d7', 'e2d1', 'd7e8', 'd1e2', 'e8d7', 'e2d1', 'd7e8', 'd1e2', 'e8d7', 'e2d1', 'd7e8', 'd1e2', 'e8d7', 'e2d1', 'd7e8', 'd1e2', 'e8d7', 'e2d1', 'd7e8', 'd1e2', 'e8d7', 'e2d1', 'd7e8', 'd1e2', 'e8d7', 'e2d1', 'd7e8', 'd1e2', 'e8d7', 'e2d1', 'd7e8', 'd1e2', 'e8d7', 'e2d1', 'd7e8', 'd1e2', 'e8d7', 'e2d1', 'd7e8', 'd1e2', 'e8d7', 'e2d1', 'd7e8', 'd1e2', 'e8d7', 'e2d1', 'd7e8', 'd1e2', 'e8d7', 'e2d1', 'd7e8', 'd1e2', 'e8d7', 'e2d1', 'd7e8', 'd1e2', 'e8d7', 'e2d1', 'd7e8', 'd1e2', 'e8d7', 'e2d1', 'd7e8', 'd1e2', 'e8d7', 'e2d1', 'd7e8', 'd1e2', 'e8d7', 'e2d1', 'd7e8', 'd1e2', 'e8d7', 'e2d1', 'd7e8', 'd1e2', 'e8d7', 'e2d1', 'd7e8', 'd1e2', 'e8d7', 'e2d1', 'd7e8', 'd1e2', 'e8d7', 'e2d1', 'd7e8', 'd1e2', 'e8d7', 'e2d1', 'd7e8', 'd1e2', 'e8d7', 'e2d1', 'd7e8', 'd1e2', 'e8d7', 'e2d1', 'd7e8', 'd1e2', 'e8d7', 'e2d1', 'd7e8', 'd1e2', 'e8d7', 'e2d1', 'd7e8', 'd1e2', 'e8d7', 'e2d1', 'd7e8', 'd1e2', 'e8d7', 'e2d1', 'd7e8', 'd1e2', 'e8d7', 'e2d1', 'd7e8', 'd1e2', 'e8d7', 'e2d1', 'd7e8', 'd1e2', 'e8d7', 'e2d1', 'd7e8', 'd1e2', 'e8d7', 'e2d1', 'd7e8', 'd1e2', 'e8d7', 'e2d1', 'd7e8', 'd1e2', 'e8d7', 'e2d1', 'd7e8', 'd1e2', 'e8d7', 'e2d1', 'd7e8', 'd1e2', 'e8d7', 'e2d1', 'd7e8', 'd1e2', 'e8d7', 'e2d1', 'd7e8', 'd1e2', 'e8d7', 'e2d1', 'd7e8', 'd1e2', 'e8d7', 'e2d1', 'd7e8', 'd1e2', 'e8d7', 'e2d1', 'd7e8', 'd1e2', 'e8d7', 'e2d1', 'd7e8', 'd1e2', 'e8d7', 'e2d1', 'd7e8', 'd1e2', 'e8d7', 'e2d1', 'd7e8', 'd1e2', 'e8d7', 'e2d1', 'd7e8', 'd1e2', 'e8d7', 'e2d1', 'd7e8', 'd1e2', 'e8d7', 'e2d1', 'd7e8', 'd1e2', 'e8d7', 'e2d1', 'd7e8', 'd1e2', 'e8d7', 'e2d1', 'd7e8', 'd1e2', 'e8d7', 'e2d1', 'd7e8', 'd1e2', 'e8d7', 'e2d1', 'd7e8', 'd1e2', 'e8d7', 'e2d1', 'd7e8', 'd1e2', 'e8d7', 'e2d1', 'd7e8', 'd1e2', 'e8d7', 'e2d1', 'd7e8', 'd1e2', 'e8d7', 'e2d1', 'd7e8', 'd1e2', 'e8d7', 'e2d1', 'd7e8', 'd1e2', 'e8d7', 'e2d1', 'd7e8', 'd1e2', 'e8d7', 'e2d1', 'd7e8', 'd1e2', 'e8d7', 'e2d1', 'd7e8', 'd1e2', 'e8d7', 'e2d1', 'd7e8', 'd1e2', 'e8d7', 'e2d1', 'd7e8', 'd1e2', 'e8d7', 'e2d1', 'd7e8', 'd1e2', 'e8d7', 'e2d1', 'd7e8', 'd1e2', 'e8d7', 'e2d1', 'd7e8', 'd1e2', 'e8d7', 'e2d1', 'd7e8', 'd1e2', 'e8d7', 'e2d1', 'd7e8', 'd1e2', 'e8d7', 'e2d1', 'd7e8', 'd1e2', 'e8d7', 'e2d1', 'd7e8', 'd1e2', 'e8d7', 'e2d1', 'd7e8', 'd1e2', 'e8d7', 'e2d1', 'd7e8', 'd1e2', 'e8d7', 'e2d1', 'd7e8', 'd1e2', 'e8d7', 'e2d1', 'd7e8', 'd1e2', 'e8d7', 'e2d1', 'd7e8', 'd1e2', 'e8d7', 'e2d1', 'd7e8', 'd1e2', 'e8d7', 'e2d1', 'd7e8', 'd1e2', 'e8d7', 'e2d1', 'd7e8', 'd1e2', 'e8d7', 'e2d1', 'd7e8', 'd1e2', 'e8d7', 'e2d1', 'd7e8', 'd1e2', 'e8d7', 'e2d1', 'd7e8', 'd1e2', 'e8d7', 'e2d1', 'd7e8', 'd1e2', 'e8d7', 'e2d1', 'd7e8', 'd1e2', 'e8d7', 'e2d1', 'd7e8', 'd1e2', 'e8d7', 'e2d1', 'd7e8', 'd1e2', 'e8d7', 'e2d1', 'd7e8', 'd1e2', 'e8d7', 'e2d1', 'd7e8', 'd1e2', 'e8d7', 'e2d1', 'd7e8', 'd1e2', 'e8d7', 'e2d1', 'd7e8', 'd1e2', 'e8d7', 'e2d1', 'd7e8', 'd1e2', 'e8d7', 'e2d1', 'd7e8', 'd1e2', 'e8d7', 'e2d1', 'd7e8', 'd1e2', 'e8d7', 'e2d1', 'd7e8', 'd1e2', 'e8d7', 'e2d1', 'd7e8', 'd1e2', 'e8d7', 'e2d1', 'd7e8', 'd1e2', 'e8d7', 'e2d1', 'd7e8', 'd1e2', 'e8d7', 'e2d1', 'd7e8', 'd1e2', 'e8d7', 'e2d1', 'd7e8', 'd1e2', 'e8d7', 'e2d1', 'd7e8', 'd1e2', 'e8d7', 'e2d1', 'd7e8', 'd1e2', 'e8d7', 'e2d1', 'd7e8', 'd1e2', 'e8d7', 'e2d1', 'd7e8', 'd1e2', 'e8d7', 'e2d1', 'd7e8', 'd1e2', 'e8d7', 'e2d1', 'd7e8', 'd1e2', 'e8d7', 'e2d1', 'd7e8', 'd1e2', 'e8d7', 'e2d1', 'd7e8', 'd1e2', 'e8d7', 'e2d1', 'd7e8', 'd1e2', 'e8d7', 'e2d1', 'd7e8', 'd1e2', 'e8d7', 'e2d1', 'd7e8', 'd1e2', 'e8d7', 'e2d1', 'd7e8', 'd1e2', 'e8d7', 'e2d1', 'd7e8', 'd1e2', 'e8d7', 'e2d1', 'd7e8', 'd1e2', 'e8d7', 'e2d1', 'd7e8', 'd1e2', 'e8d7', 'e2d1', 'd7e8', 'd1e2', 'e8d7', 'e2d1', 'd7e8', 'd1e2', 'e8d7', 'e2d1', 'd7e8', 'd1e2', 'e8d7', 'e2d1', 'd7e8', 'd1e2', 'e8d7', 'e2d1', 'd7e8', 'd1e2', 'e8d7', 'e2d1', 'd7e8', 'd1e2', 'e8d7', 'e2d1', 'd7e8', 'd1e2', 'e8d7', 'e2d1', 'd7e8', 'd1e2', 'e8d7', 'e2d1', 'd7e8', 'd1e2', 'e8d7', 'e2d1', 'd7e8', 'd1e2', 'e8d7', 'e2d1', 'd7e8', 'd1e2', 'e8d7', 'e2d1', 'd7e8', 'd1e2', 'e8d7', 'e2d1', 'd7e8', 'd1e2', 'e8d7', 'e2d1', 'd7e8', 'd1e2', 'e8d7', 'e2d1', 'd7e8', 'd1e2', 'e8d7', 'e2d1', 'd7e8', 'd1e2', 'e8d7', 'e2d1', 'd7e8', 'd1e2', 'e8d7', 'e2d1', 'd7e8', 'd1e2', 'e8d7', 'e2d1', 'd7e8', 'd1e2', 'e8d7', 'e2d1', 'd7e8', 'd1e2', 'e8d7', 'e2d1', 'd7e8', 'd1e2', 'e8d7', 'e2d1', 'd7e8', 'd1e2', 'e8d7', 'e2d1', 'd7e8', 'd1e2', 'e8d7', 'e2d1', 'd7e8', 'd1e2', 'e8d7', 'e2d1', 'd7e8', 'd1e2', 'e8d7', 'e2d1', 'd7e8', 'd1e2', 'e8d7', 'e2d1', 'd7e8', 'd1e2', 'e8d7', 'e2d1', 'd7e8', 'd1e2', 'e8d7', 'e2d1', 'd7e8', 'd1e2', 'e8d7', 'e2d1', 'd7e8', 'd1e2', 'e8d7', 'e2d1', 'd7e8', 'd1e2', 'e8d7', 'e2d1', 'd7e8', 'd1e2', 'e8d7', 'e2d1', 'd7e8', 'd1e2', 'e8d7', 'e2d1', 'd7e8', 'd1e2', 'e8d7', 'e2d1', 'd7e8', 'd1e2', 'e8d7', 'e2d1', 'd7e8', 'd1e2', 'e8d7', 'e2d1', 'd7e8', 'd1e2', 'e8d7', 'e2d1', 'd7e8', 'd1e2', 'e8d7', 'e2d1', 'd7e8', 'd1e2', 'e8d7', 'e2d1', 'd7e8', 'd1e2', 'e8d7', 'e2d1', 'd7e8', 'd1e2', 'e8d7', 'e2d1', 'd7e8', 'd1e2', 'e8d7', 'e2d1', 'd7e8', 'd1e2', 'e8d7', 'e2d1', 'd7e8', 'd1e2', 'e8d7', 'e2d1', 'd7e8', 'd1e2', 'e8d7', 'e2d1', 'd7e8', 'd1e2', 'e8d7', 'e2d1', 'd7e8', 'd1e2', 'e8d7', 'e2d1', 'd7e8', 'd1e2', 'e8d7', 'e2d1', 'd7e8', 'd1e2', 'e8d7', 'e2d1', 'd7e8', 'd1e2', 'e8d7', 'e2d1', 'd7e8', 'd1e2', 'e8d7', 'e2d1', 'd7e8', 'd1e2', 'e8d7', 'e2d1', 'd7e8', 'd1e2', 'e8d7', 'e2d1', 'd7e8', 'd1e2', 'e8d7', 'e2d1', 'd7e8', 'd1e2', 'e8d7', 'e2d1', 'd7e8', 'd1e2', 'e8d7', 'e2d1', 'd7e8', 'd1e2', 'e8d7', 'e2d1', 'd7e8', 'd1e2', 'e8d7', 'e2d1', 'd7e8', 'd1e2', 'e8d7', 'e2d1', 'd7e8', 'd1e2', 'e8d7', 'e2d1', 'd7e8', 'd1e2', 'e8d7', 'e2d1', 'd7e8', 'd1e2', 'e8d7', 'e2d1', 'd7e8', 'd1e2', 'e8d7', 'e2d1', 'd7e8', 'd1e2', 'e8d7', 'e2d1', 'd7e8', 'd1e2', 'e8d7', 'e2d1', 'd7e8', 'd1e2', 'e8d7', 'e2d1', 'd7e8', 'd1e2', 'e8d7', 'e2d1', 'd7e8', 'd1e2', 'e8d7', 'e2d1', 'd7e8', 'd1e2', 'e8d7', 'e2d1', 'd7e8', 'd1e2', 'e8d7', 'e2d1', 'd7e8', 'd1e2', 'e8d7', 'e2d1', 'd7e8', 'd1e2', 'e8d7', 'e2d1', 'd7e8', 'd1e2', 'e8d7', 'e2d1', 'd7e8', 'd1e2', 'e8d7', 'e2d1', 'd7e8', 'd1e2', 'e8d7', 'e2d1', 'd7e8', 'd1e2', 'e8d7', 'e2d1', 'd7e8', 'd1e2', 'e8d7', 'e2d1', 'd7e8', 'd1e2', 'e8d7', 'e2d1', 'd7e8', 'd1e2', 'e8d7', 'e2d1', 'd7e8', 'd1e2', 'e8d7', 'e2d1', 'd7e8', 'd1e2', 'e8d7', 'e2d1', 'd7e8', 'd1e2', 'e8d7', 'e2d1', 'd7e8', 'd1e2', 'e8d7', 'e2d1', 'd7e8', 'd1e2', 'e8d7', 'e2d1', 'd7e8', 'd1e2', 'e8d7', 'e2d1', 'd7e8', 'd1e2', 'e8d7', 'e2d1', 'd7e8', 'd1e2', 'e8d7', 'e2d1', 'd7e8', 'd1e2', 'e8d7', 'e2d1', 'd7e8', 'd1e2', 'e8d7', 'e2d1', 'd7e8', 'd1e2', 'e8d7', 'e2d1', 'd7e8', 'd1e2', 'e8d7', 'e2d1', 'd7e8', 'd1e2', 'e8d7', 'e2d1', 'd7e8', 'd1e2', 'e8d7', 'e2d1', 'd7e8', 'd1e2', 'e8d7', 'e2d1', 'd7e8', 'd1e2', 'e8d7', 'e2d1', 'd7e8', 'd1e2', 'e8d7', 'e2d1', 'd7e8', 'd1e2', 'e8d7', 'e2d1', 'd7e8', 'd1e2', 'e8d7', 'e2d1', 'd7e8', 'd1e2', 'e8d7', 'e2d1', 'd7e8', 'd1e2', 'e8d7', 'e2d1', 'd7e8', 'd1e2', 'e8d7', 'e2d1', 'd7e8', 'd1e2', 'e8d7', 'e2d1', 'd7e8', 'd1e2', 'e8d7', 'e2d1', 'd7e8', 'd1e2', 'e8d7', 'e2d1', 'd7e8', 'd1e2', 'e8d7', 'e2d1', 'd7e8', 'd1e2', 'e8d7', 'e2d1', 'd7e8', 'd1e2', 'e8d7', 'e2d1', 'd7e8', 'd1e2', 'e8d7', 'e2d1', 'd7e8', 'd1e2', 'e8d7', 'e2d1', 'd7e8', 'd1e2', 'e8d7', 'e2d1', 'd7e8', 'd1e2', 'e8d7', 'e2d1', 'd7e8', 'd1e2', 'e8d7', 'e2d1', 'd7e8', 'd1e2', 'e8d7', 'e2d1', 'd7e8', 'd1e2', 'e8d7', 'e2d1', 'd7e8', 'd1e2', 'e8d7', 'e2d1', 'd7e8', 'd1e2', 'e8d7', 'e2d1', 'd7e8', 'd1e2', 'e8d7', 'e2d1', 'd7e8', 'd1e2', 'e8d7', 'e2d1', 'd7e8', 'd1e2', 'e8d7', 'e2d1', 'd7e8', 'd1e2', 'e8d7', 'e2d1', 'd7e8', 'd1e2', 'e8d7', 'e2d1', 'd7e8', 'd1e2', 'e8d7', 'e2d1', 'd7e8', 'd1e2', 'e8d7', 'e2d1', 'd7e8', 'd1e2', 'e8d7', 'e2d1', 'd7e8', 'd1e2', 'e8d7', 'e2d1', 'd7e8', 'd1e2', 'e8d7', 'e2d1', 'd7e8', 'd1e2', 'e8d7', 'e2d1', 'd7e8', 'd1e2', 'e8d7', 'e2d1', 'd7e8', 'd1e2', 'e8d7', 'e2d1', 'd7e8', 'd1e2', 'e8d7', 'e2d1', 'd7e8', 'd1e2', 'e8d7', 'e2d1', 'd7e8', 'd1e2', 'e8d7', 'e2d1', 'd7e8', 'd1e2', 'e8d7', 'e2d1', 'd7e8', 'd1e2', 'e8d7', 'e2d1', 'd7e8', 'd1e2', 'e8d7', 'e2d1', 'd7e8', 'd1e2', 'e8d7', 'e2d1', 'd7e8', 'd1e2', 'e8d7', 'e2d1', 'd7e8', 'd1e2', 'e8d7', 'e2d1', 'd7e8', 'd1e2', 'e8d7', 'e2d1', 'd7e8', 'd1e2', 'e8d7', 'e2d1', 'd7e8', 'd1e2', 'e8d7', 'e2d1', 'd7e8', 'd1e2', 'e8d7', 'e2d1', 'd7e8', 'd1e2', 'e8d7', 'e2d1', 'd7e8', 'd1e2', 'e8d7', 'e2d1', 'd7e8', 'd1e2', 'e8d7', 'e2d1', 'd7e8', 'd1e2', 'e8d7', 'e2d1', 'd7e8', 'd1e2', 'e8d7', 'e2d1', 'd7e8', 'd1e2', 'e8d7', 'e2d1', 'd7e8', 'd1e2', 'e8d7', 'e2d1', 'd7e8', 'd1e2', 'e8d7', 'e2d1', 'd7e8', 'd1e2', 'e8d7', 'e2d1', 'd7e8', 'd1e2', 'e8d7', 'e2d1', 'd7e8', 'd1e2', 'e8d7', 'e2d1', 'd7e8', 'd1e2', 'e8d7', 'e2d1', 'd7e8', 'd1e2', 'e8d7', 'e2d1', 'd7e8', 'd1e2', 'e8d7', 'e2d1', 'd7e8', 'd1e2', 'e8d7', 'e2d1', 'd7e8', 'd1e2', 'e8d7', 'e2d1', 'd7e8', 'd1e2', 'e8d7', 'e2d1', 'd7e8', 'd1e2', 'e8d7', 'e2d1', 'd7e8', 'd1e2', 'e8d7', 'e2d1', 'd7e8', 'd1e2', 'e8d7', 'e2d1', 'd7e8', 'd1e2', 'e8d7', 'e2d1', 'd7e8', 'd1e2', 'e8d7', 'e2d1', 'd7e8', 'd1e2', 'e8d7', 'e2d1', 'd7e8', 'd1e2', 'e8d7', 'e2d1', 'd7e8', 'd1e2', 'e8d7', 'e2d1', 'd7e8', 'd1e2', 'e8d7', 'e2d1', 'd7e8', 'd1e2', 'e8d7', 'e2d1', 'd7e8', 'd1e2', 'e8d7', 'e2d1', 'd7e8', 'd1e2', 'e8d7', 'e2d1', 'd7e8', 'd1e2', 'e8d7', 'e2d1', 'd7e8', 'd1e2', 'e8d7', 'e2d1', 'd7e8', 'd1e2', 'e8d7', 'e2d1', 'd7e8', 'd1e2', 'e8d7', 'e2d1', 'd7e8', 'd1e2', 'e8d7', 'e2d1', 'd7e8', 'd1e2', 'e8d7', 'e2d1', 'd7e8', 'd1e2', 'e8d7', 'e2d1', 'd7e8', 'd1e2', 'e8d7', 'e2d1', 'd7e8', 'd1e2', 'e8d7', 'e2d1', 'd7e8', 'd1e2', 'e8d7', 'e2d1', 'd7e8', 'd1e2', 'e8d7', 'e2d1', 'd7e8', 'd1e2', 'e8d7', 'e2d1', 'd7e8', 'd1e2', 'e8d7', 'e2d1', 'd7e8', 'd1e2', 'e8d7', 'e2d1', 'd7e8', 'd1e2', 'e8d7', 'e2d1', 'd7e8', 'd1e2', 'e8d7', 'e2d1', 'd7e8', 'd1e2', 'e8d7', 'e2d1', 'd7e8', 'd1e2', 'e8d7', 'e2d1', 'd7e8', 'd1e2', 'e8d7', 'e2d1', 'd7e8', 'd1e2', 'e8d7', 'e2d1', 'd7e8', 'd1e2', 'e8d7', 'e2d1', 'd7e8', 'd1e2', 'e8d7', 'e2d1', 'd7e8', 'd1e2']\n",
            "r . q n k b . r\n",
            "p p p . n p p p\n",
            ". . . . N . . .\n",
            ". . . p p . . .\n",
            ". . . . . . . .\n",
            ". . . P P . . .\n",
            "P P P . B P P P\n",
            "R N B . . R K .\n"
          ],
          "name": "stdout"
        }
      ]
    }
  ]
}