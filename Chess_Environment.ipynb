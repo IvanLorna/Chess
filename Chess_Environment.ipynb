{
  "nbformat": 4,
  "nbformat_minor": 0,
  "metadata": {
    "colab": {
      "name": "Chess_Environment.ipynb",
      "provenance": [],
      "collapsed_sections": []
    },
    "kernelspec": {
      "name": "python3",
      "display_name": "Python 3"
    },
    "language_info": {
      "name": "python"
    }
  },
  "cells": [
    {
      "cell_type": "code",
      "metadata": {
        "colab": {
          "base_uri": "https://localhost:8080/"
        },
        "id": "C3ug8U_fGy-L",
        "outputId": "50d9ce22-7981-4787-8fce-9a328d0f3345"
      },
      "source": [
        "#install libraries\n",
        "!pip install tensorflow-gpu==1.15.2\n",
        "!pip install keras==2.0.8\n",
        "!pip install python-chess==0.25.1 \n",
        "!pip install profilehooks\n",
        "!pip install numpy\n",
        "!pip install pyperclip\n",
        "!pip install h5py"
      ],
      "execution_count": null,
      "outputs": [
        {
          "output_type": "stream",
          "text": [
            "Collecting tensorflow-gpu==1.15.2\n",
            "\u001b[?25l  Downloading https://files.pythonhosted.org/packages/92/42/7bddc0d5bc169596fbd13b6e1b844f832491ab671381e483da3bf5292ca9/tensorflow_gpu-1.15.2-cp37-cp37m-manylinux2010_x86_64.whl (410.9MB)\n",
            "\u001b[K     |████████████████████████████████| 411.0MB 25kB/s \n",
            "\u001b[?25hCollecting gast==0.2.2\n",
            "  Downloading https://files.pythonhosted.org/packages/4e/35/11749bf99b2d4e3cceb4d55ca22590b0d7c2c62b9de38ac4a4a7f4687421/gast-0.2.2.tar.gz\n",
            "Requirement already satisfied: astor>=0.6.0 in /usr/local/lib/python3.7/dist-packages (from tensorflow-gpu==1.15.2) (0.8.1)\n",
            "Requirement already satisfied: wrapt>=1.11.1 in /usr/local/lib/python3.7/dist-packages (from tensorflow-gpu==1.15.2) (1.12.1)\n",
            "Requirement already satisfied: six>=1.10.0 in /usr/local/lib/python3.7/dist-packages (from tensorflow-gpu==1.15.2) (1.15.0)\n",
            "Collecting keras-applications>=1.0.8\n",
            "\u001b[?25l  Downloading https://files.pythonhosted.org/packages/71/e3/19762fdfc62877ae9102edf6342d71b28fbfd9dea3d2f96a882ce099b03f/Keras_Applications-1.0.8-py3-none-any.whl (50kB)\n",
            "\u001b[K     |████████████████████████████████| 51kB 4.5MB/s \n",
            "\u001b[?25hCollecting tensorboard<1.16.0,>=1.15.0\n",
            "\u001b[?25l  Downloading https://files.pythonhosted.org/packages/1e/e9/d3d747a97f7188f48aa5eda486907f3b345cd409f0a0850468ba867db246/tensorboard-1.15.0-py3-none-any.whl (3.8MB)\n",
            "\u001b[K     |████████████████████████████████| 3.8MB 28.1MB/s \n",
            "\u001b[?25hRequirement already satisfied: google-pasta>=0.1.6 in /usr/local/lib/python3.7/dist-packages (from tensorflow-gpu==1.15.2) (0.2.0)\n",
            "Requirement already satisfied: numpy<2.0,>=1.16.0 in /usr/local/lib/python3.7/dist-packages (from tensorflow-gpu==1.15.2) (1.19.5)\n",
            "Collecting tensorflow-estimator==1.15.1\n",
            "\u001b[?25l  Downloading https://files.pythonhosted.org/packages/de/62/2ee9cd74c9fa2fa450877847ba560b260f5d0fb70ee0595203082dafcc9d/tensorflow_estimator-1.15.1-py2.py3-none-any.whl (503kB)\n",
            "\u001b[K     |████████████████████████████████| 512kB 44.2MB/s \n",
            "\u001b[?25hRequirement already satisfied: absl-py>=0.7.0 in /usr/local/lib/python3.7/dist-packages (from tensorflow-gpu==1.15.2) (0.12.0)\n",
            "Requirement already satisfied: keras-preprocessing>=1.0.5 in /usr/local/lib/python3.7/dist-packages (from tensorflow-gpu==1.15.2) (1.1.2)\n",
            "Requirement already satisfied: wheel>=0.26; python_version >= \"3\" in /usr/local/lib/python3.7/dist-packages (from tensorflow-gpu==1.15.2) (0.36.2)\n",
            "Requirement already satisfied: opt-einsum>=2.3.2 in /usr/local/lib/python3.7/dist-packages (from tensorflow-gpu==1.15.2) (3.3.0)\n",
            "Requirement already satisfied: grpcio>=1.8.6 in /usr/local/lib/python3.7/dist-packages (from tensorflow-gpu==1.15.2) (1.32.0)\n",
            "Requirement already satisfied: termcolor>=1.1.0 in /usr/local/lib/python3.7/dist-packages (from tensorflow-gpu==1.15.2) (1.1.0)\n",
            "Requirement already satisfied: protobuf>=3.6.1 in /usr/local/lib/python3.7/dist-packages (from tensorflow-gpu==1.15.2) (3.12.4)\n",
            "Requirement already satisfied: h5py in /usr/local/lib/python3.7/dist-packages (from keras-applications>=1.0.8->tensorflow-gpu==1.15.2) (2.10.0)\n",
            "Requirement already satisfied: setuptools>=41.0.0 in /usr/local/lib/python3.7/dist-packages (from tensorboard<1.16.0,>=1.15.0->tensorflow-gpu==1.15.2) (56.1.0)\n",
            "Requirement already satisfied: markdown>=2.6.8 in /usr/local/lib/python3.7/dist-packages (from tensorboard<1.16.0,>=1.15.0->tensorflow-gpu==1.15.2) (3.3.4)\n",
            "Requirement already satisfied: werkzeug>=0.11.15 in /usr/local/lib/python3.7/dist-packages (from tensorboard<1.16.0,>=1.15.0->tensorflow-gpu==1.15.2) (1.0.1)\n",
            "Requirement already satisfied: importlib-metadata; python_version < \"3.8\" in /usr/local/lib/python3.7/dist-packages (from markdown>=2.6.8->tensorboard<1.16.0,>=1.15.0->tensorflow-gpu==1.15.2) (3.10.1)\n",
            "Requirement already satisfied: typing-extensions>=3.6.4; python_version < \"3.8\" in /usr/local/lib/python3.7/dist-packages (from importlib-metadata; python_version < \"3.8\"->markdown>=2.6.8->tensorboard<1.16.0,>=1.15.0->tensorflow-gpu==1.15.2) (3.7.4.3)\n",
            "Requirement already satisfied: zipp>=0.5 in /usr/local/lib/python3.7/dist-packages (from importlib-metadata; python_version < \"3.8\"->markdown>=2.6.8->tensorboard<1.16.0,>=1.15.0->tensorflow-gpu==1.15.2) (3.4.1)\n",
            "Building wheels for collected packages: gast\n",
            "  Building wheel for gast (setup.py) ... \u001b[?25l\u001b[?25hdone\n",
            "  Created wheel for gast: filename=gast-0.2.2-cp37-none-any.whl size=7540 sha256=e48f0b7b004151eb0466dd8c85053e877c2e425c8348d7a0707a7e1fb0ca02a9\n",
            "  Stored in directory: /root/.cache/pip/wheels/5c/2e/7e/a1d4d4fcebe6c381f378ce7743a3ced3699feb89bcfbdadadd\n",
            "Successfully built gast\n",
            "\u001b[31mERROR: tensorflow 2.4.1 has requirement gast==0.3.3, but you'll have gast 0.2.2 which is incompatible.\u001b[0m\n",
            "\u001b[31mERROR: tensorflow 2.4.1 has requirement tensorboard~=2.4, but you'll have tensorboard 1.15.0 which is incompatible.\u001b[0m\n",
            "\u001b[31mERROR: tensorflow 2.4.1 has requirement tensorflow-estimator<2.5.0,>=2.4.0, but you'll have tensorflow-estimator 1.15.1 which is incompatible.\u001b[0m\n",
            "\u001b[31mERROR: tensorflow-probability 0.12.1 has requirement gast>=0.3.2, but you'll have gast 0.2.2 which is incompatible.\u001b[0m\n",
            "Installing collected packages: gast, keras-applications, tensorboard, tensorflow-estimator, tensorflow-gpu\n",
            "  Found existing installation: gast 0.3.3\n",
            "    Uninstalling gast-0.3.3:\n",
            "      Successfully uninstalled gast-0.3.3\n",
            "  Found existing installation: tensorboard 2.4.1\n",
            "    Uninstalling tensorboard-2.4.1:\n",
            "      Successfully uninstalled tensorboard-2.4.1\n",
            "  Found existing installation: tensorflow-estimator 2.4.0\n",
            "    Uninstalling tensorflow-estimator-2.4.0:\n",
            "      Successfully uninstalled tensorflow-estimator-2.4.0\n",
            "Successfully installed gast-0.2.2 keras-applications-1.0.8 tensorboard-1.15.0 tensorflow-estimator-1.15.1 tensorflow-gpu-1.15.2\n",
            "Collecting keras==2.0.8\n",
            "\u001b[?25l  Downloading https://files.pythonhosted.org/packages/67/3f/d117d6e48b19fb9589369f4bdbe883aa88943f8bb4a850559ea5c546fefb/Keras-2.0.8-py2.py3-none-any.whl (276kB)\n",
            "\u001b[K     |████████████████████████████████| 276kB 4.8MB/s \n",
            "\u001b[?25hRequirement already satisfied: scipy>=0.14 in /usr/local/lib/python3.7/dist-packages (from keras==2.0.8) (1.4.1)\n",
            "Requirement already satisfied: six>=1.9.0 in /usr/local/lib/python3.7/dist-packages (from keras==2.0.8) (1.15.0)\n",
            "Requirement already satisfied: numpy>=1.9.1 in /usr/local/lib/python3.7/dist-packages (from keras==2.0.8) (1.19.5)\n",
            "Requirement already satisfied: pyyaml in /usr/local/lib/python3.7/dist-packages (from keras==2.0.8) (3.13)\n",
            "\u001b[31mERROR: textgenrnn 1.4.1 has requirement keras>=2.1.5, but you'll have keras 2.0.8 which is incompatible.\u001b[0m\n",
            "Installing collected packages: keras\n",
            "  Found existing installation: Keras 2.4.3\n",
            "    Uninstalling Keras-2.4.3:\n",
            "      Successfully uninstalled Keras-2.4.3\n",
            "Successfully installed keras-2.0.8\n",
            "Collecting python-chess==0.25.1\n",
            "\u001b[?25l  Downloading https://files.pythonhosted.org/packages/9d/28/11d5d1f2f5c7e65c7d25e825f337c04b22a91d2021aa9a1eaae7c0d9d61d/python_chess-0.25.1-py3-none-any.whl (142kB)\n",
            "\u001b[K     |████████████████████████████████| 143kB 5.2MB/s \n",
            "\u001b[?25hInstalling collected packages: python-chess\n",
            "  Found existing installation: python-chess 0.23.11\n",
            "    Uninstalling python-chess-0.23.11:\n",
            "      Successfully uninstalled python-chess-0.23.11\n",
            "Successfully installed python-chess-0.25.1\n",
            "Collecting profilehooks\n",
            "  Downloading https://files.pythonhosted.org/packages/11/8d/6b2f22d7b41b5dfcad388c08f337ea299ae6863737083888e9e3bd94273b/profilehooks-1.12.0-py2.py3-none-any.whl\n",
            "Installing collected packages: profilehooks\n",
            "Successfully installed profilehooks-1.12.0\n",
            "Requirement already satisfied: numpy in /usr/local/lib/python3.7/dist-packages (1.19.5)\n",
            "Collecting pyperclip\n",
            "  Downloading https://files.pythonhosted.org/packages/a7/2c/4c64579f847bd5d539803c8b909e54ba087a79d01bb3aba433a95879a6c5/pyperclip-1.8.2.tar.gz\n",
            "Building wheels for collected packages: pyperclip\n",
            "  Building wheel for pyperclip (setup.py) ... \u001b[?25l\u001b[?25hdone\n",
            "  Created wheel for pyperclip: filename=pyperclip-1.8.2-cp37-none-any.whl size=11107 sha256=d38d303baf0b4942b550dc157c8e7a8ac8b516a6f67aab95d09025537140a3d2\n",
            "  Stored in directory: /root/.cache/pip/wheels/25/af/b8/3407109267803f4015e1ee2ff23be0c8c19ce4008665931ee1\n",
            "Successfully built pyperclip\n",
            "Installing collected packages: pyperclip\n",
            "Successfully installed pyperclip-1.8.2\n",
            "Requirement already satisfied: h5py in /usr/local/lib/python3.7/dist-packages (2.10.0)\n",
            "Requirement already satisfied: numpy>=1.7 in /usr/local/lib/python3.7/dist-packages (from h5py) (1.19.5)\n",
            "Requirement already satisfied: six in /usr/local/lib/python3.7/dist-packages (from h5py) (1.15.0)\n"
          ],
          "name": "stdout"
        }
      ]
    },
    {
      "cell_type": "code",
      "metadata": {
        "id": "JtYLQpvXHdj2"
      },
      "source": [
        "#import libraries\n",
        "import tensorflow as tf\n",
        "import keras\n",
        "import chess\n",
        "import numpy as np\n",
        "import h5py\n",
        "from tensorflow.keras import models, layers"
      ],
      "execution_count": 52,
      "outputs": []
    },
    {
      "cell_type": "code",
      "metadata": {
        "id": "pn6sEt0bH7QB"
      },
      "source": [
        "squares_index = {\n",
        "  'a': 0,\n",
        "  'b': 1,\n",
        "  'c': 2,\n",
        "  'd': 3,\n",
        "  'e': 4,\n",
        "  'f': 5,\n",
        "  'g': 6,\n",
        "  'h': 7\n",
        "}\n",
        "\n",
        "def square_to_index(square):\n",
        "    letter = chess.square_name(square)\n",
        "    return 8 - int(letter[1]), squares_index[letter[0]]\n",
        "\n",
        "def split_dims(board):\n",
        "  # this is the 3d matrix\n",
        "    board3d = np.zeros((14, 8, 8), dtype=np.int8)\n",
        "\n",
        "  # here we add the pieces's view on the matrix\n",
        "    for piece in chess.PIECE_TYPES:\n",
        "        for square in board.pieces(piece, chess.WHITE):\n",
        "            idx = np.unravel_index(square, (8, 8))\n",
        "            board3d[piece - 1][7 - idx[0]][idx[1]] = 1\n",
        "        for square in board.pieces(piece, chess.BLACK):\n",
        "            idx = np.unravel_index(square, (8, 8))\n",
        "            board3d[piece + 5][7 - idx[0]][idx[1]] = 1\n",
        "\n",
        "  # add attacks and valid moves too\n",
        "  # so the network knows what is being attacked\n",
        "    aux = board.turn\n",
        "    board.turn = chess.WHITE\n",
        "    for move in board.legal_moves:\n",
        "        i, j = square_to_index(move.to_square)\n",
        "        board3d[12][i][j] += 1\n",
        "    board.turn = chess.BLACK\n",
        "    for move in board.legal_moves:\n",
        "        i, j = square_to_index(move.to_square)\n",
        "        board3d[13][i][j] += 1\n",
        "    board.turn = aux\n",
        "    return board3d\n",
        "\n",
        "def move_dims(move):\n",
        "  board3d = np.zeros((2,8,8), dtype= np.int8)\n",
        "  i = squares_index[move[0]]\n",
        "  j = 8 - int(move[1])\n",
        "  board3d[0][j][i] = 1\n",
        "  i = squares_index[move[2]]\n",
        "  j = 8 - int(move[3])\n",
        "  board3d[1][j][i] = 1\n",
        "  return board3d\n"
      ],
      "execution_count": 102,
      "outputs": []
    },
    {
      "cell_type": "code",
      "metadata": {
        "id": "gxZBUHYsClOs"
      },
      "source": [
        "def BoardBeforeMove(board, move):\n",
        "  dims = split_dims(board)\n",
        "  UCI = chess.Move.uci(board.parse_san(move))\n",
        "  board.push_uci(UCI)\n",
        "  return dims, move_dims(UCI), UCI"
      ],
      "execution_count": 39,
      "outputs": []
    },
    {
      "cell_type": "code",
      "metadata": {
        "id": "W9LhbbIyIIt2"
      },
      "source": [
        "def DataLoad():\n",
        "  import pandas as pd\n",
        "  dataframe = pd.read_csv('games.csv')\n",
        "  dataframe = dataframe[dataframe['victory_status']== 'mate']\n",
        "  dataframe_black = dataframe[dataframe['winner'] == 'black']\n",
        "  dataframe_white = dataframe[dataframe['winner'] == 'white']\n",
        "  return np.array(dataframe_white['moves']), np.array(dataframe_black['moves'])\n",
        "\n",
        "\n"
      ],
      "execution_count": 33,
      "outputs": []
    },
    {
      "cell_type": "code",
      "metadata": {
        "id": "KXDX7KECL17H"
      },
      "source": [
        "def moves(game, type):\n",
        "  Steps = game.split(' ')\n",
        "  board = chess.Board()\n",
        "  game = []\n",
        "  moves = []\n",
        "  UCIs = []\n",
        "  i = 0\n",
        "  for step in Steps:\n",
        "    if (type == \"white\"):\n",
        "      if (i % 2) == 0: \n",
        "        dims, UCI_board, UCI = BoardBeforeMove(board,step)\n",
        "        moves.append(UCI_board)\n",
        "        game.append(dims)\n",
        "        UCIs.append(UCI)\n",
        "      else:\n",
        "        a, b, c = BoardBeforeMove(board,step)\n",
        "    else:\n",
        "      if (i % 2) != 0:\n",
        "        dims, UCI_board, UCI = BoardBeforeMove(board,step)\n",
        "        moves.append(UCI_board)\n",
        "        game.append(dims)\n",
        "        UCIs.append(UCI)\n",
        "      else:\n",
        "        a, b, c = BoardBeforeMove(board,step)\n",
        "    i += 1\n",
        "  return np.array(game), np.array(moves), np.array(UCIs)\n"
      ],
      "execution_count": 40,
      "outputs": []
    },
    {
      "cell_type": "code",
      "metadata": {
        "id": "9ws8iacbO0yP"
      },
      "source": [
        "def GetData():\n",
        "  WhiteWin = []\n",
        "  WhiteMoves = []\n",
        "  WhiteUCI = []\n",
        "  BlackWin = []\n",
        "  BlackMoves = []\n",
        "  BlackUCI = []\n",
        "  wgames, bgames = DataLoad()\n",
        "  for game in wgames:\n",
        "    WW, WM, WU = moves(game, \"white\")\n",
        "    WhiteWin.append(WW)\n",
        "    WhiteMoves.append(WM)\n",
        "    WhiteUCI.append(WU)\n",
        "  for game in bgames:\n",
        "    BW, BM, BU = moves(game, \"black\")\n",
        "    BlackWin.append(BW)\n",
        "    BlackMoves.append(BM)\n",
        "    BlackUCI.append(BU)\n",
        "  \n",
        "  return WhiteWin, WhiteMoves, WhiteUCI, BlackWin, BlackMoves, BlackUCI\n",
        "\n",
        "WX,WY,WU,BX,BY,BU = GetData()"
      ],
      "execution_count": 103,
      "outputs": []
    },
    {
      "cell_type": "code",
      "metadata": {
        "id": "BGVs95Wfc70J"
      },
      "source": [
        "TrainWX = []\n",
        "TrainWY = []\n",
        "TrainBX = []\n",
        "TrainBY = []\n",
        "for game, move in zip(WX,WY):\n",
        "  for i in range(len(game)):\n",
        "    TrainWX.append(game[i].reshape(8,8,14))\n",
        "    TrainWY.append(move[i].reshape(1,128))\n",
        "\n",
        "TrainWX = np.array(TrainWX)\n",
        "TrainWY = np.array(TrainWY)\n",
        "\n",
        "\n",
        "for game, move in zip(BX,BY):\n",
        "  for i in range(len(game)):\n",
        "    TrainBX.append(game[i].reshape(8,8,14))\n",
        "    TrainBY.append(move[i].reshape(1,128))\n",
        "\n",
        "TrainBX = np.array(TrainBX)\n",
        "TrainBY = np.array(TrainBY)\n"
      ],
      "execution_count": 104,
      "outputs": []
    },
    {
      "cell_type": "code",
      "metadata": {
        "id": "NXgIg1zAY61-"
      },
      "source": [
        "model = models.Sequential()\n",
        "model.add(layers.ZeroPadding2D(padding=(1,1), input_shape=(8, 8, 14)))\n",
        "model.add(layers.Conv2D(32, (3, 3), strides = (1,1), activation='sigmoid'))\n",
        "model.add(layers.ZeroPadding2D(padding=(1,1)))\n",
        "model.add(layers.AveragePooling2D((2, 2)))\n",
        "model.add(layers.ZeroPadding2D(padding=(1,1)))\n",
        "model.add(layers.Conv2D(64, (3, 3), activation='sigmoid'))\n",
        "model.add(layers.ZeroPadding2D(padding=(1,1)))\n",
        "model.add(layers.AveragePooling2D((2, 2)))\n",
        "model.add(layers.ZeroPadding2D(padding=(1,1)))\n",
        "model.add(layers.Conv2D(64, (3, 3), activation='sigmoid'))\n",
        "model.add(layers.Flatten())\n",
        "model.add(layers.Dense(128,activation='softmax'))\n"
      ],
      "execution_count": 116,
      "outputs": []
    },
    {
      "cell_type": "code",
      "metadata": {
        "id": "6vD368Mc9YNo",
        "colab": {
          "base_uri": "https://localhost:8080/"
        },
        "outputId": "7488a337-81a2-4b01-8b0b-a3aa2e3f5165"
      },
      "source": [
        "model.summary()"
      ],
      "execution_count": 117,
      "outputs": [
        {
          "output_type": "stream",
          "text": [
            "Model: \"sequential_17\"\n",
            "_________________________________________________________________\n",
            "Layer (type)                 Output Shape              Param #   \n",
            "=================================================================\n",
            "zero_padding2d_68 (ZeroPaddi (None, 10, 10, 14)        0         \n",
            "_________________________________________________________________\n",
            "conv2d_49 (Conv2D)           (None, 8, 8, 32)          4064      \n",
            "_________________________________________________________________\n",
            "zero_padding2d_69 (ZeroPaddi (None, 10, 10, 32)        0         \n",
            "_________________________________________________________________\n",
            "average_pooling2d (AveragePo (None, 5, 5, 32)          0         \n",
            "_________________________________________________________________\n",
            "zero_padding2d_70 (ZeroPaddi (None, 7, 7, 32)          0         \n",
            "_________________________________________________________________\n",
            "conv2d_50 (Conv2D)           (None, 5, 5, 64)          18496     \n",
            "_________________________________________________________________\n",
            "zero_padding2d_71 (ZeroPaddi (None, 7, 7, 64)          0         \n",
            "_________________________________________________________________\n",
            "average_pooling2d_1 (Average (None, 3, 3, 64)          0         \n",
            "_________________________________________________________________\n",
            "zero_padding2d_72 (ZeroPaddi (None, 5, 5, 64)          0         \n",
            "_________________________________________________________________\n",
            "conv2d_51 (Conv2D)           (None, 3, 3, 64)          36928     \n",
            "_________________________________________________________________\n",
            "flatten_14 (Flatten)         (None, 576)               0         \n",
            "_________________________________________________________________\n",
            "dense_22 (Dense)             (None, 128)               73856     \n",
            "=================================================================\n",
            "Total params: 133,344\n",
            "Trainable params: 133,344\n",
            "Non-trainable params: 0\n",
            "_________________________________________________________________\n"
          ],
          "name": "stdout"
        }
      ]
    },
    {
      "cell_type": "code",
      "metadata": {
        "id": "0UO3yvk-TNW1",
        "colab": {
          "base_uri": "https://localhost:8080/"
        },
        "outputId": "7f2dc0c7-31a9-400b-ae13-8eaeba039803"
      },
      "source": [
        "model.compile(optimizer='adam',\n",
        "              loss = tf.keras.losses.MeanSquaredError(),\n",
        "              metrics=['accuracy'])\n",
        "\n",
        "history = model.fit(TrainWX, TrainWY, epochs = 10)"
      ],
      "execution_count": 119,
      "outputs": [
        {
          "output_type": "stream",
          "text": [
            "Epoch 1/10\n",
            "3385/3385 [==============================] - 46s 13ms/step - loss: 0.0153 - accuracy: 0.0226\n",
            "Epoch 2/10\n",
            "3385/3385 [==============================] - 46s 13ms/step - loss: 0.0153 - accuracy: 0.0188\n",
            "Epoch 3/10\n",
            "3385/3385 [==============================] - 46s 13ms/step - loss: 0.0153 - accuracy: 0.0169\n",
            "Epoch 4/10\n",
            "3385/3385 [==============================] - 46s 14ms/step - loss: 0.0153 - accuracy: 0.0188\n",
            "Epoch 5/10\n",
            "3385/3385 [==============================] - 46s 13ms/step - loss: 0.0153 - accuracy: 0.0224\n",
            "Epoch 6/10\n",
            "3385/3385 [==============================] - 46s 14ms/step - loss: 0.0153 - accuracy: 0.0143\n",
            "Epoch 7/10\n",
            "3385/3385 [==============================] - 46s 14ms/step - loss: 0.0153 - accuracy: 0.0171\n",
            "Epoch 8/10\n",
            "3385/3385 [==============================] - 46s 14ms/step - loss: 0.0153 - accuracy: 0.0129\n",
            "Epoch 9/10\n",
            "3385/3385 [==============================] - 46s 14ms/step - loss: 0.0153 - accuracy: 0.0103\n",
            "Epoch 10/10\n",
            "3385/3385 [==============================] - 46s 14ms/step - loss: 0.0153 - accuracy: 0.0184\n"
          ],
          "name": "stdout"
        }
      ]
    },
    {
      "cell_type": "code",
      "metadata": {
        "id": "YdxvyiC2kRT8"
      },
      "source": [
        "prediction = model.predict(TrainWX[:1])\n"
      ],
      "execution_count": 155,
      "outputs": []
    },
    {
      "cell_type": "code",
      "metadata": {
        "colab": {
          "base_uri": "https://localhost:8080/"
        },
        "id": "-RPC0_m7qCB3",
        "outputId": "38a97bcf-7bc3-41d8-d48a-9e5aad7bff16"
      },
      "source": [
        "def moveEval(pred, move):\n",
        "  UCI = str(move)\n",
        "  i = squares_index[UCI[0]]\n",
        "  j = 8 - int(UCI[1])\n",
        "  k = squares_index[UCI[2]]\n",
        "  l = 8 - int(UCI[1])\n",
        "  return pred[0][j][i]*pred[1][l][k]\n",
        "\n",
        "\n",
        "def Decision(Board, model):\n",
        "  X = []\n",
        "  X.append(split_dims(Board).reshape(8,8,14))\n",
        "  X= np.array(X)\n",
        "  prediction = model.predict(X[:1])\n",
        "  curr_move = \"\"\n",
        "  max = 0\n",
        "  prediction = prediction.reshape(2,8,8)\n",
        "  for move in board.legal_moves:\n",
        "    curr = moveEval(prediction,move)\n",
        "    if curr > max:\n",
        "      curr_move = move\n",
        "      max = curr\n",
        "  return curr_move\n",
        "\n",
        "\n",
        "\n",
        "move = Decision(board,model)\n",
        "print(move)"
      ],
      "execution_count": 154,
      "outputs": [
        {
          "output_type": "stream",
          "text": [
            "e2e3\n"
          ],
          "name": "stdout"
        }
      ]
    },
    {
      "cell_type": "code",
      "metadata": {
        "id": "EzK9hKh2t4w2"
      },
      "source": [
        "model.save(\"White_weights.h5\")"
      ],
      "execution_count": 162,
      "outputs": []
    },
    {
      "cell_type": "code",
      "metadata": {
        "colab": {
          "base_uri": "https://localhost:8080/"
        },
        "id": "zgBFaeQFuK_N",
        "outputId": "e16c0b0b-ee7e-4b8a-9560-e44e696ab6bf"
      },
      "source": [
        "WhiteModel = models.load_model(\"White_weights.h5\")\n",
        "move = Decision(board,WhiteModel)\n",
        "print(move)"
      ],
      "execution_count": 166,
      "outputs": [
        {
          "output_type": "stream",
          "text": [
            "e2e3\n"
          ],
          "name": "stdout"
        }
      ]
    }
  ]
}